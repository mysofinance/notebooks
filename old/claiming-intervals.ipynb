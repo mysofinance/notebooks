{
  "metadata": {
    "language_info": {
      "codemirror_mode": {
        "name": "python",
        "version": 3
      },
      "file_extension": ".py",
      "mimetype": "text/x-python",
      "name": "python",
      "nbconvert_exporter": "python",
      "pygments_lexer": "ipython3",
      "version": "3.8"
    },
    "kernelspec": {
      "name": "python",
      "display_name": "Python (Pyodide)",
      "language": "python"
    }
  },
  "nbformat_minor": 4,
  "nbformat": 4,
  "cells": [
    {
      "cell_type": "code",
      "source": "def nextBaseStep(fromIdx, toIdx, baseAggr=100):\n    # get next loan idx that is closest in terms of mod baseAggr\n    nextIdx = (fromIdx // baseAggr + 1) * baseAggr\n    # make sure next doesn't \"overstep\" toIdx\n    return min([nextIdx, toIdx])\n\ndef buildBaseAggrRanges(loanIdxsWhereSharesChanged, baseAggr=100):\n    baseAggrRanges = loanIdxsWhereSharesChanged.copy()\n    i = 0\n    n = len(baseAggrRanges) - 1\n    while (i < n):\n        # get next loan idx in terms of mod baseAggr\n        nextStep = nextBaseStep(baseAggrRanges[i], baseAggrRanges[i+1], baseAggr)\n        # make sure we don't insert duplicates\n        if (nextStep != baseAggrRanges[i+1]):\n            baseAggrRanges.insert(i+1, nextStep)\n            n = len(baseAggrRanges) - 1\n        i += 1\n    return baseAggrRanges\n\ndef prune(baseRanges, pruneBy=1000):\n    pruned = [baseRanges[0]]\n    i = 0\n    n = len(baseRanges)\n    while (i < n):\n        # make sure we don't insert duplicates\n        if pruned[-1] != baseRanges[i]:\n            pruned.append(baseRanges[i])\n        # check if loan idx is potentially starting point for range that can be pruned\n        if baseRanges[i] % pruneBy == 0 and i + 10 < n:\n            canBePruned = True\n            for j in range(10):\n                # check that next next 10 loan idxs can all be pruned\n                if baseRanges[i+j+1] % (pruneBy/10) != 0:\n                    canBePruned = False\n                    break\n            # if range can be pruned, add the 10th item and move forward by 10\n            if canBePruned:\n                pruned.append(baseRanges[i+j+1])\n                i += 10\n            else:\n                i += 1\n        else:\n            i += 1\n    return pruned\n\ndef findBreakPoints(loanIdxsWhereSharesChanged, baseRanges):\n    breakPoints = []\n    i = 0\n    j = 0\n    n = len(baseRanges)\n    while (i < n):\n        if baseRanges[i] == loanIdxsWhereSharesChanged[j]:\n            breakPoints.append(i)\n            j += 1\n        i += 1\n    return breakPoints\n        \ndef pruneBreakPointAware(baseAggrRanges, pruningBreakPoints):\n    # if no break points, prune entire range\n    if len(pruningBreakPoints) == 1:\n        # try pruning by 1'000 intervals\n        prunedBy1000 = prune(baseAggrRanges, 1000)\n        \n        # try pruning by 10'000 intervals\n        pruned = prune(prunedBy1000, 10000)\n\n    # if break points, prune subintervals\n    else:\n        pruned = []\n        for i in range(len(pruningBreakPoints)-1):\n            # get range to be pruned\n            rangeToBePruned = baseAggrRanges[pruningBreakPoints[i]:(pruningBreakPoints[i+1]+1)]\n            \n            # try pruning by 1'000 intervals\n            prunedBy1000 = prune(rangeToBePruned, 1000)\n            \n            # try pruning by 10'000 intervals\n            prunedBy10000 = prune(prunedBy1000, 10000)\n            \n            if i == 0:\n                pruned = prunedBy10000\n            else:\n                pruned += prunedBy10000[1:]\n    return pruned\n    \ndef packIntoClaimingTxs(pruned):\n    packed = []\n    i = 0\n    n = len(pruned)-1\n    while (i < n):\n        consecutive100 = pruned[i] % 100 == 0 and pruned[i+1] % 100 == 0\n        consecutive1000 = pruned[i] % 1000 == 0 and pruned[i+1] % 1000 == 0\n        consecutive10000 = pruned[i] % 10000 == 0 and pruned[i+1] % 10000 == 0\n        if (consecutive100 or consecutive1000 or consecutive10000):\n            j = 1\n            tmp1 = [pruned[i]]\n            tmp2 = [] # tmp variable to keep track of \"closing\" uneven upper claiming bound, e.g., 100,200,255 -> 100,200 + 200,255\n            while (i+j < n+1):\n                diff = 10000 if consecutive10000 else (1000 if consecutive1000 else 100)\n                if (pruned[i+j] - pruned[i]) % diff == 0:\n                    tmp1.append(pruned[i+j])\n                    j += 1\n                else:\n                    tmp2 = [pruned[i+j-1], pruned[i+j]]\n                    break\n            i += j\n            packed.append(tmp1)\n            if len(tmp2) > 0:\n                packed.append(tmp2)\n        else:\n            packed.append([pruned[i], pruned[i+1]])\n            i += 1\n    return packed\n           \ndef packBreakPointAware(pruned, packingBreakPoints):\n    # if no break points, pack entire range\n    if len(packingBreakPoints) == 1:\n        packed = packIntoClaimingTxs(pruned)\n    else:\n        packed = []\n        for i in range(len(packingBreakPoints)-1):\n            rangeToBePacked = pruned[packingBreakPoints[i]:(packingBreakPoints[i+1]+1)]\n            tmp = packIntoClaimingTxs(rangeToBePacked)\n            for elem in tmp:\n                packed.append(elem)\n    return packed\n            \n# example array of where LP changed position\nloanIdxsWhereSharesChanged = [4,1300,1555,2600, 10000]\nprint(\"loanIdxsWhereSharesChanged:\\n\", loanIdxsWhereSharesChanged, \"\\n\")\n\n# construct array with \"intermediate\" steps according to baseAggr\nbaseAggrRanges = buildBaseAggrRanges(loanIdxsWhereSharesChanged, 100)\nprint(\"baseAggrRanges:\\n\", baseAggrRanges, \"\\n\")\n\n# find break points across which pruning shall not happen\npruningBreakPoints = findBreakPoints(loanIdxsWhereSharesChanged, baseAggrRanges)\nprint(\"pruningBreakPoints:\\n\", pruningBreakPoints, \"\\n\")\n     \n# prune taking into account break points\npruned = pruneBreakPointAware(baseAggrRanges, pruningBreakPoints)\nprint(\"pruned:\\n\", pruned, \"\\n\")\n\n# find break points across which tx packing shall not happen\npackingBreakPoints = findBreakPoints(loanIdxsWhereSharesChanged, pruned)\nprint(\"packingBreakPoints:\\n\", packingBreakPoints, \"\\n\")\n\n# get packed claimings taking into account break points\npacked = packBreakPointAware(pruned, packingBreakPoints)\nprint(\"packed:\\n\", packed, \"\\n\")\n",
      "metadata": {
        "trusted": true
      },
      "execution_count": null,
      "outputs": []
    },
    {
      "cell_type": "code",
      "source": "",
      "metadata": {},
      "execution_count": null,
      "outputs": []
    }
  ]
}